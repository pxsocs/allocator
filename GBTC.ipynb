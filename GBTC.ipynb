{
 "cells": [
  {
   "attachments": {},
   "cell_type": "markdown",
   "metadata": {},
   "source": [
    "## GBTC Analysis"
   ]
  },
  {
   "cell_type": "code",
   "execution_count": 3,
   "metadata": {},
   "outputs": [
    {
     "data": {
      "text/plain": [
       "<Figure size 1000x400 with 0 Axes>"
      ]
     },
     "execution_count": 4,
     "metadata": {},
     "output_type": "execute_result"
    },
    {
     "data": {
      "text/plain": [
       "<Figure size 1000x400 with 0 Axes>"
      ]
     },
     "metadata": {},
     "output_type": "display_data"
    }
   ],
   "source": [
    "# MatPlotLib settings\n",
    "%matplotlib inline\n",
    "import matplotlib.pyplot as plt\n",
    "import matplotlib as mpl\n",
    "import seaborn as sns\n",
    "from cycler import cycler\n",
    "# Swan Colors\n",
    "swan_colors = ['#31597F', '#7B96B0', '#C3D9E9', '#DAE1E8']\n",
    "mpl.rcParams['lines.color'] = '#31597F'\n",
    "mpl.rcParams['text.color'] = '#31597F'\n",
    "mpl.rcParams['axes.prop_cycle'] = cycler(color=swan_colors)\n",
    "mpl.rcParams['lines.linewidth'] = 1\n",
    "sns.set_style('darkgrid') # darkgrid, white grid, dark, white and ticks\n",
    "sns.color_palette('pastel')\n",
    "plt.rc('axes', titlesize=12)\n",
    "plt.rc('axes', labelsize=8)   \n",
    "plt.rc('xtick', labelsize=8, color='#00305E')  \n",
    "plt.rc('ytick', labelsize=8, color='#00305E')    \n",
    "plt.rc('legend', fontsize=12)\n",
    "plt.rc('font', size=8)          \n",
    "plt.figure(figsize=(10, 4), tight_layout=True)"
   ]
  },
  {
   "cell_type": "code",
   "execution_count": 9,
   "metadata": {},
   "outputs": [
    {
     "name": "stderr",
     "output_type": "stream",
     "text": [
      "/var/folders/dv/t5p9gs7d27dbtm0x8l0kvf600000gq/T/ipykernel_39941/232479890.py:7: DeprecationWarning: The 'text' argument to find()-type methods is deprecated. Use 'string' instead.\n",
      "  script = soup.find(\"script\", text=re.compile(\"Highcharts.Chart\"))\n"
     ]
    },
    {
     "ename": "AttributeError",
     "evalue": "'NoneType' object has no attribute 'decode'",
     "output_type": "error",
     "traceback": [
      "\u001b[0;31m---------------------------------------------------------------------------\u001b[0m",
      "\u001b[0;31mAttributeError\u001b[0m                            Traceback (most recent call last)",
      "Cell \u001b[0;32mIn[9], line 8\u001b[0m\n\u001b[1;32m      6\u001b[0m soup \u001b[39m=\u001b[39m BeautifulSoup(requests\u001b[39m.\u001b[39mget(\u001b[39m\"\u001b[39m\u001b[39mhttps://ycharts.com/companies/GBTC/discount_or_premium_to_nav\u001b[39m\u001b[39m\"\u001b[39m)\u001b[39m.\u001b[39mcontent, \u001b[39m\"\u001b[39m\u001b[39mhtml.parser\u001b[39m\u001b[39m\"\u001b[39m)\n\u001b[1;32m      7\u001b[0m script \u001b[39m=\u001b[39m soup\u001b[39m.\u001b[39mfind(\u001b[39m\"\u001b[39m\u001b[39mscript\u001b[39m\u001b[39m\"\u001b[39m, text\u001b[39m=\u001b[39mre\u001b[39m.\u001b[39mcompile(\u001b[39m\"\u001b[39m\u001b[39mHighcharts.Chart\u001b[39m\u001b[39m\"\u001b[39m))\n\u001b[0;32m----> 8\u001b[0m parsed \u001b[39m=\u001b[39m js2xml\u001b[39m.\u001b[39;49mparse(script)\n\u001b[1;32m      9\u001b[0m \u001b[39mprint\u001b[39m (js2xml\u001b[39m.\u001b[39mpretty_print(parsed))\n",
      "File \u001b[0;32m~/Documents/Swan/Coding/allocation_strategies/.myenv/lib/python3.10/site-packages/js2xml/__init__.py:16\u001b[0m, in \u001b[0;36mparse\u001b[0;34m(text, encoding, debug)\u001b[0m\n\u001b[1;32m     14\u001b[0m \u001b[39mdef\u001b[39;00m \u001b[39mparse\u001b[39m(text, encoding\u001b[39m=\u001b[39m\u001b[39m\"\u001b[39m\u001b[39mutf8\u001b[39m\u001b[39m\"\u001b[39m, debug\u001b[39m=\u001b[39m\u001b[39mFalse\u001b[39;00m):\n\u001b[1;32m     15\u001b[0m     \u001b[39mif\u001b[39;00m \u001b[39mnot\u001b[39;00m \u001b[39misinstance\u001b[39m(text, \u001b[39mstr\u001b[39m):\n\u001b[0;32m---> 16\u001b[0m         text \u001b[39m=\u001b[39m text\u001b[39m.\u001b[39;49mdecode(encoding)\n\u001b[1;32m     17\u001b[0m     tree \u001b[39m=\u001b[39m _parser\u001b[39m.\u001b[39mparse(text, debug\u001b[39m=\u001b[39mdebug)\n\u001b[1;32m     18\u001b[0m     xml \u001b[39m=\u001b[39m _visitor\u001b[39m.\u001b[39mvisit(tree)\n",
      "\u001b[0;31mAttributeError\u001b[0m: 'NoneType' object has no attribute 'decode'"
     ]
    }
   ],
   "source": [
    "from bs4 import BeautifulSoup\n",
    "import requests\n",
    "import re\n",
    "import js2xml\n",
    "\n",
    "soup = BeautifulSoup(requests.get(\"https://ycharts.com/companies/GBTC/discount_or_premium_to_nav\").content, \"html.parser\")\n",
    "script = soup.find(\"script\", text=re.compile(\"Highcharts.Chart\")).text\n",
    "\n",
    "parsed = js2xml.parse(script)\n",
    "print (js2xml.pretty_print(parsed))"
   ]
  },
  {
   "cell_type": "code",
   "execution_count": null,
   "metadata": {},
   "outputs": [],
   "source": []
  }
 ],
 "metadata": {
  "kernelspec": {
   "display_name": ".myenv",
   "language": "python",
   "name": "python3"
  },
  "language_info": {
   "codemirror_mode": {
    "name": "ipython",
    "version": 3
   },
   "file_extension": ".py",
   "mimetype": "text/x-python",
   "name": "python",
   "nbconvert_exporter": "python",
   "pygments_lexer": "ipython3",
   "version": "3.10.9 (main, Dec 15 2022, 18:25:35) [Clang 14.0.0 (clang-1400.0.29.202)]"
  },
  "vscode": {
   "interpreter": {
    "hash": "4e42ad074a612a92c728142607adbe16bb063d075b6a3eb41219fc2bed4f6659"
   }
  }
 },
 "nbformat": 4,
 "nbformat_minor": 4
}
