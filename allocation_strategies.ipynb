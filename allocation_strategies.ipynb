{
 "cells": [
  {
   "attachments": {},
   "cell_type": "markdown",
   "metadata": {},
   "source": [
    "## Bitcoin Allocation Strategies\n",
    "Comparing different allocation strategies historically\n",
    "\n",
    ". Lump-Sum\n",
    "\n",
    ". Dollar Cost Averaging (DCA)\n",
    "\n",
    ". Combination (optimized)"
   ]
  },
  {
   "cell_type": "code",
   "execution_count": 90,
   "metadata": {},
   "outputs": [],
   "source": [
    "# Import Libraries\n",
    "import pandas as pd\n",
    "import numpy as np\n",
    "import urllib\n",
    "import requests\n",
    "from datetime import datetime, timedelta\n",
    "\n",
    "# Chart libraries + settings\n",
    "%matplotlib inline\n",
    "import matplotlib.pyplot as plt\n",
    "# plt.style.use('seaborn-whitegrid')\n",
    "pd.options.mode.chained_assignment = None  # default='warn' - disable some pandas warnings\n"
   ]
  },
  {
   "cell_type": "code",
   "execution_count": 6,
   "metadata": {},
   "outputs": [],
   "source": [
    "# Load Bitcoin Prices into a dataframe\n",
    "# Ticker is customizable\n",
    "ticker = \"BTC\"\n",
    "# Cryptocompare URL and fiels\n",
    "base_url = 'https://min-api.cryptocompare.com/data/histoday'\n",
    "ticker_field = 'fsym'\n",
    "field_dict = {'tsym': 'USD','allData': 'true'}\n",
    "# Convert the field dict into a url encoded string\n",
    "url_args = \"&\" + urllib.parse.urlencode(field_dict)\n",
    "ticker = ticker.upper()\n",
    "globalURL = (base_url + \"?\" + ticker_field + \"=\" + ticker + url_args)\n"
   ]
  },
  {
   "cell_type": "code",
   "execution_count": 7,
   "metadata": {},
   "outputs": [
    {
     "data": {
      "text/plain": [
       "'Success'"
      ]
     },
     "execution_count": 7,
     "metadata": {},
     "output_type": "execute_result"
    }
   ],
   "source": [
    "# Request the data\n",
    "resp = requests.get(url=globalURL)\n",
    "data = resp.json()\n",
    "data[\"Response\"]"
   ]
  },
  {
   "cell_type": "code",
   "execution_count": 8,
   "metadata": {},
   "outputs": [],
   "source": [
    "# Parse the JSON into a Pandas DataFrame\n",
    "try:\n",
    "    df = pd.DataFrame.from_dict(data['Data'])\n",
    "    df = df.rename(columns={'time': 'date'})\n",
    "    df['date'] = pd.to_datetime(df['date'], unit='s')\n",
    "    df.set_index('date', inplace=True)\n",
    "    df_save = df[['close', 'open', 'high', 'low']]\n",
    "except Exception as e:\n",
    "    self.errors.append(e)\n",
    "    df_save = None"
   ]
  },
  {
   "cell_type": "code",
   "execution_count": 9,
   "metadata": {},
   "outputs": [],
   "source": [
    "# Include percentage change \n",
    "df = df_save\n",
    "df['change'] = df['close'].pct_change()"
   ]
  },
  {
   "attachments": {},
   "cell_type": "markdown",
   "metadata": {},
   "source": [
    "### Date utilities to be used later"
   ]
  },
  {
   "cell_type": "code",
   "execution_count": 34,
   "metadata": {},
   "outputs": [],
   "source": [
    "# Increment n number of months of certain date\n",
    "def monthdelta(date, delta):\n",
    "    m, y = (date.month+delta) % 12, date.year + ((date.month)+delta-1) // 12\n",
    "    if not m: m = 12\n",
    "    d = min(date.day, [31,\n",
    "        29 if y%4==0 and not y%400==0 else 28,31,30,31,30,31,31,30,31,30,31][m-1])\n",
    "    new_date = (date.replace(day=d,month=m, year=y))\n",
    "    return new_date\n",
    "\n",
    "def add_periods(date, periods, frequency):\n",
    "    if frequency.upper() == 'D' or 'DAY' in frequency.upper():\n",
    "        return (date + timedelta(days=periods))\n",
    "    if frequency.upper() == 'W' or 'WEEK' in frequency.upper():\n",
    "        return (date + timedelta(days=periods * 7))\n",
    "    if frequency.upper() == 'M' or 'MONTH' in frequency.upper():\n",
    "        return(monthdelta(date, periods))\n",
    "    if frequency.upper() == 'Y' or 'YEAR' in frequency.upper():\n",
    "        return(monthdelta(date, periods * 12))"
   ]
  },
  {
   "attachments": {},
   "cell_type": "markdown",
   "metadata": {},
   "source": [
    "### Main Allocation Class\n",
    "See example on creating an allocation instance at the cell following the class definition"
   ]
  },
  {
   "cell_type": "code",
   "execution_count": 112,
   "metadata": {},
   "outputs": [],
   "source": [
    "class AllocationManager:\n",
    "    def __init__(self):\n",
    "        self.frequency = 'D'  # 'D', 'W', 'M', 'Y'\n",
    "        self.allocation_periods = 30  # Assume allocation happens during 30 periods\n",
    "        self.upfront_percent = 0  # [0 - 1]: amount to be allocated upfront\n",
    "        self.capital = 100000  # 10,000 dollars to allocate\n",
    "        self.df = df  # Bitcoin Prices Dataframe\n",
    "        self.start_date = self.df.index.min()  # Date where allocation starts (default = first date)\n",
    "        self.end_date = self.df.index.max()  # End date for analysis (default = today), but this can be used to test specific timeframes (ex: ending last year)\n",
    "        # Create empty allocation & position columns\n",
    "        self.df['allocation'] = 0\n",
    "        self.df['BTC_tx'] = 0\n",
    "         \n",
    "    def allocate_capital(self):\n",
    "        # TRIM THE DF between start and end dates\n",
    "        # TO DO ---------------------------\n",
    "        \n",
    "        # Updates the dataframe to allocate the capital\n",
    "        available_capital = self.capital \n",
    "        current_date = self.start_date\n",
    "        periods_left = self.allocation_periods\n",
    "        \n",
    "        # Set upfront amount if any & per period amounts\n",
    "        if self.upfront_percent > 0:\n",
    "            upfront = self.upfront_percent * self.capital  # how much upfront in $\n",
    "            per_period = (self.capital - upfront) / (self.allocation_periods - 1)\n",
    "        else:\n",
    "            per_period = self.capital / self.allocation_periods \n",
    "            upfront = per_period\n",
    "        \n",
    "        # Start looping until allocation is complete\n",
    "        while periods_left > 0:\n",
    "            # Allocate Capital\n",
    "            if current_date == self.start_date:\n",
    "                self.df.at[current_date, 'allocation'] = upfront\n",
    "            else:\n",
    "                self.df.at[current_date, 'allocation'] = per_period\n",
    "            \n",
    "            # Allocate BTC\n",
    "            self.df.at[current_date, 'BTC_tx'] = (\n",
    "                self.df.at[current_date, 'allocation'] / \n",
    "                self.df.at[current_date, 'close'] \n",
    "                )\n",
    "            current_date = add_periods(current_date, 1, self.frequency)\n",
    "            periods_left -= 1\n",
    "\n",
    "        # Sum all BTC Txs and calculate portfolio values\n",
    "        self.df['BTC_position'] = self.df['BTC_tx'].cumsum()\n",
    "        self.df['portfolio_position'] = (self.df['BTC_position'] * self.df['close'])\n",
    "        # TO DO ---------------------\n",
    "        # self.df['normalized_port_position'] = \n",
    "    \n",
    "    def stats(self):\n",
    "        self.allocate_capital()\n",
    "        stats = {}\n",
    "        df = self.df\n",
    "        stats['capital allocated'] = df.allocation.sum()\n",
    "        stats['BTC allocated'] = df.BTC_tx.sum()\n",
    "        stats['max portfolio value'] = df.portfolio_position.max()\n",
    "        stats['final portfolio value'] = df.portfolio_position[-1]\n",
    "        # Calculate Return on Invested Capital\n",
    "        stats['ROIC'] = (\n",
    "            (stats['final portfolio value'] / \n",
    "             stats['capital allocated']) - 1\n",
    "            )\n",
    "        # Calculate Multiple of Invested Capital\n",
    "        stats['MOIC'] = (\n",
    "            (stats['final portfolio value'] / \n",
    "             stats['capital allocated'])\n",
    "            )\n",
    "        return (stats)"
   ]
  },
  {
   "cell_type": "code",
   "execution_count": 114,
   "metadata": {},
   "outputs": [],
   "source": [
    "# Create a sample Instance of the AllocationManager and test results\n",
    "btc_alloc = AllocationManager()\n",
    "btc_alloc.capital = 100\n",
    "btc_alloc.allocation_periods = 4\n",
    "btc_alloc.frequency = 'D'\n",
    "btc_alloc.upfront_percent = 0.9\n",
    "btc_alloc.allocate_capital()"
   ]
  },
  {
   "cell_type": "code",
   "execution_count": 109,
   "metadata": {},
   "outputs": [
    {
     "data": {
      "text/html": [
       "<div>\n",
       "<style scoped>\n",
       "    .dataframe tbody tr th:only-of-type {\n",
       "        vertical-align: middle;\n",
       "    }\n",
       "\n",
       "    .dataframe tbody tr th {\n",
       "        vertical-align: top;\n",
       "    }\n",
       "\n",
       "    .dataframe thead th {\n",
       "        text-align: right;\n",
       "    }\n",
       "</style>\n",
       "<table border=\"1\" class=\"dataframe\">\n",
       "  <thead>\n",
       "    <tr style=\"text-align: right;\">\n",
       "      <th></th>\n",
       "      <th>close</th>\n",
       "      <th>open</th>\n",
       "      <th>high</th>\n",
       "      <th>low</th>\n",
       "      <th>change</th>\n",
       "      <th>allocation</th>\n",
       "      <th>BTC_position</th>\n",
       "      <th>BTC_tx</th>\n",
       "      <th>portfolio_position</th>\n",
       "    </tr>\n",
       "    <tr>\n",
       "      <th>date</th>\n",
       "      <th></th>\n",
       "      <th></th>\n",
       "      <th></th>\n",
       "      <th></th>\n",
       "      <th></th>\n",
       "      <th></th>\n",
       "      <th></th>\n",
       "      <th></th>\n",
       "      <th></th>\n",
       "    </tr>\n",
       "  </thead>\n",
       "  <tbody>\n",
       "    <tr>\n",
       "      <th>2010-07-17</th>\n",
       "      <td>0.04951</td>\n",
       "      <td>0.04951</td>\n",
       "      <td>0.04951</td>\n",
       "      <td>0.04951</td>\n",
       "      <td>NaN</td>\n",
       "      <td>90.000000</td>\n",
       "      <td>1817.814583</td>\n",
       "      <td>1817.814583</td>\n",
       "      <td>9.000000e+01</td>\n",
       "    </tr>\n",
       "    <tr>\n",
       "      <th>2010-07-18</th>\n",
       "      <td>0.08584</td>\n",
       "      <td>0.04951</td>\n",
       "      <td>0.08585</td>\n",
       "      <td>0.05941</td>\n",
       "      <td>0.733791</td>\n",
       "      <td>3.333333</td>\n",
       "      <td>1856.646518</td>\n",
       "      <td>38.831935</td>\n",
       "      <td>1.593745e+02</td>\n",
       "    </tr>\n",
       "    <tr>\n",
       "      <th>2010-07-19</th>\n",
       "      <td>0.08080</td>\n",
       "      <td>0.08584</td>\n",
       "      <td>0.09307</td>\n",
       "      <td>0.07723</td>\n",
       "      <td>-0.058714</td>\n",
       "      <td>3.333333</td>\n",
       "      <td>1897.900644</td>\n",
       "      <td>41.254125</td>\n",
       "      <td>1.533504e+02</td>\n",
       "    </tr>\n",
       "    <tr>\n",
       "      <th>2010-07-20</th>\n",
       "      <td>0.07474</td>\n",
       "      <td>0.08080</td>\n",
       "      <td>0.08181</td>\n",
       "      <td>0.07426</td>\n",
       "      <td>-0.075000</td>\n",
       "      <td>3.333333</td>\n",
       "      <td>1942.499698</td>\n",
       "      <td>44.599055</td>\n",
       "      <td>1.451824e+02</td>\n",
       "    </tr>\n",
       "    <tr>\n",
       "      <th>2010-07-21</th>\n",
       "      <td>0.07921</td>\n",
       "      <td>0.07474</td>\n",
       "      <td>0.07921</td>\n",
       "      <td>0.06634</td>\n",
       "      <td>0.059807</td>\n",
       "      <td>0.000000</td>\n",
       "      <td>1942.499698</td>\n",
       "      <td>0.000000</td>\n",
       "      <td>1.538654e+02</td>\n",
       "    </tr>\n",
       "    <tr>\n",
       "      <th>...</th>\n",
       "      <td>...</td>\n",
       "      <td>...</td>\n",
       "      <td>...</td>\n",
       "      <td>...</td>\n",
       "      <td>...</td>\n",
       "      <td>...</td>\n",
       "      <td>...</td>\n",
       "      <td>...</td>\n",
       "      <td>...</td>\n",
       "    </tr>\n",
       "    <tr>\n",
       "      <th>2023-01-11</th>\n",
       "      <td>17938.00000</td>\n",
       "      <td>17442.44000</td>\n",
       "      <td>17986.45000</td>\n",
       "      <td>17324.71000</td>\n",
       "      <td>0.028411</td>\n",
       "      <td>0.000000</td>\n",
       "      <td>1942.499698</td>\n",
       "      <td>0.000000</td>\n",
       "      <td>3.484456e+07</td>\n",
       "    </tr>\n",
       "    <tr>\n",
       "      <th>2023-01-12</th>\n",
       "      <td>18849.00000</td>\n",
       "      <td>17938.00000</td>\n",
       "      <td>19092.31000</td>\n",
       "      <td>17906.40000</td>\n",
       "      <td>0.050786</td>\n",
       "      <td>0.000000</td>\n",
       "      <td>1942.499698</td>\n",
       "      <td>0.000000</td>\n",
       "      <td>3.661418e+07</td>\n",
       "    </tr>\n",
       "    <tr>\n",
       "      <th>2023-01-13</th>\n",
       "      <td>19932.05000</td>\n",
       "      <td>18849.00000</td>\n",
       "      <td>19992.23000</td>\n",
       "      <td>18717.45000</td>\n",
       "      <td>0.057459</td>\n",
       "      <td>0.000000</td>\n",
       "      <td>1942.499698</td>\n",
       "      <td>0.000000</td>\n",
       "      <td>3.871800e+07</td>\n",
       "    </tr>\n",
       "    <tr>\n",
       "      <th>2023-01-14</th>\n",
       "      <td>20954.52000</td>\n",
       "      <td>19932.05000</td>\n",
       "      <td>21255.15000</td>\n",
       "      <td>19895.77000</td>\n",
       "      <td>0.051298</td>\n",
       "      <td>0.000000</td>\n",
       "      <td>1942.499698</td>\n",
       "      <td>0.000000</td>\n",
       "      <td>4.070415e+07</td>\n",
       "    </tr>\n",
       "    <tr>\n",
       "      <th>2023-01-15</th>\n",
       "      <td>20929.45000</td>\n",
       "      <td>20954.52000</td>\n",
       "      <td>21047.91000</td>\n",
       "      <td>20575.44000</td>\n",
       "      <td>-0.001196</td>\n",
       "      <td>0.000000</td>\n",
       "      <td>1942.499698</td>\n",
       "      <td>0.000000</td>\n",
       "      <td>4.065545e+07</td>\n",
       "    </tr>\n",
       "  </tbody>\n",
       "</table>\n",
       "<p>4566 rows × 9 columns</p>\n",
       "</div>"
      ],
      "text/plain": [
       "                  close         open         high          low    change  \\\n",
       "date                                                                       \n",
       "2010-07-17      0.04951      0.04951      0.04951      0.04951       NaN   \n",
       "2010-07-18      0.08584      0.04951      0.08585      0.05941  0.733791   \n",
       "2010-07-19      0.08080      0.08584      0.09307      0.07723 -0.058714   \n",
       "2010-07-20      0.07474      0.08080      0.08181      0.07426 -0.075000   \n",
       "2010-07-21      0.07921      0.07474      0.07921      0.06634  0.059807   \n",
       "...                 ...          ...          ...          ...       ...   \n",
       "2023-01-11  17938.00000  17442.44000  17986.45000  17324.71000  0.028411   \n",
       "2023-01-12  18849.00000  17938.00000  19092.31000  17906.40000  0.050786   \n",
       "2023-01-13  19932.05000  18849.00000  19992.23000  18717.45000  0.057459   \n",
       "2023-01-14  20954.52000  19932.05000  21255.15000  19895.77000  0.051298   \n",
       "2023-01-15  20929.45000  20954.52000  21047.91000  20575.44000 -0.001196   \n",
       "\n",
       "            allocation  BTC_position       BTC_tx  portfolio_position  \n",
       "date                                                                   \n",
       "2010-07-17   90.000000   1817.814583  1817.814583        9.000000e+01  \n",
       "2010-07-18    3.333333   1856.646518    38.831935        1.593745e+02  \n",
       "2010-07-19    3.333333   1897.900644    41.254125        1.533504e+02  \n",
       "2010-07-20    3.333333   1942.499698    44.599055        1.451824e+02  \n",
       "2010-07-21    0.000000   1942.499698     0.000000        1.538654e+02  \n",
       "...                ...           ...          ...                 ...  \n",
       "2023-01-11    0.000000   1942.499698     0.000000        3.484456e+07  \n",
       "2023-01-12    0.000000   1942.499698     0.000000        3.661418e+07  \n",
       "2023-01-13    0.000000   1942.499698     0.000000        3.871800e+07  \n",
       "2023-01-14    0.000000   1942.499698     0.000000        4.070415e+07  \n",
       "2023-01-15    0.000000   1942.499698     0.000000        4.065545e+07  \n",
       "\n",
       "[4566 rows x 9 columns]"
      ]
     },
     "execution_count": 109,
     "metadata": {},
     "output_type": "execute_result"
    }
   ],
   "source": [
    "btc_alloc.df"
   ]
  },
  {
   "attachments": {},
   "cell_type": "markdown",
   "metadata": {},
   "source": [
    "### Run some quick checks"
   ]
  },
  {
   "cell_type": "code",
   "execution_count": 115,
   "metadata": {},
   "outputs": [
    {
     "data": {
      "text/plain": [
       "date\n",
       "2010-07-17    90.000000\n",
       "2010-07-18     3.333333\n",
       "2010-07-19     3.333333\n",
       "2010-07-20     3.333333\n",
       "Name: allocation, dtype: float64"
      ]
     },
     "metadata": {},
     "output_type": "display_data"
    },
    {
     "name": "stdout",
     "output_type": "stream",
     "text": [
      "Total allocation:\n",
      "100.0\n",
      "Checks [OK]\n"
     ]
    }
   ],
   "source": [
    "# Show only the allocation periods\n",
    "al_df = btc_alloc.df.allocation.where(btc_alloc.df.allocation > 0).dropna()\n",
    "display(al_df)\n",
    "# Check it adds to allocation amount\n",
    "print(\"Total allocation:\")\n",
    "print(round(al_df.sum(), 8))\n",
    "if (round(al_df.sum(), 8) == round(btc_alloc.capital, 8)):\n",
    "    print (\"Checks [OK]\")\n",
    "else:\n",
    "    print (\"[ERROR] - something went wrong\")"
   ]
  },
  {
   "cell_type": "code",
   "execution_count": 116,
   "metadata": {},
   "outputs": [
    {
     "data": {
      "text/plain": [
       "{'capital allocated': 100.0,\n",
       " 'BTC allocated': 1942.4996982087885,\n",
       " 'max portfolio value': 131214184.0642632,\n",
       " 'final portfolio value': 40655450.30867593,\n",
       " 'ROIC': 406553.5030867593,\n",
       " 'MOIC': 406554.5030867593}"
      ]
     },
     "execution_count": 116,
     "metadata": {},
     "output_type": "execute_result"
    }
   ],
   "source": [
    "# Show statistics\n",
    "btc_alloc.stats()"
   ]
  },
  {
   "cell_type": "code",
   "execution_count": null,
   "metadata": {},
   "outputs": [],
   "source": []
  }
 ],
 "metadata": {
  "kernelspec": {
   "display_name": ".myenv",
   "language": "python",
   "name": "python3"
  },
  "language_info": {
   "codemirror_mode": {
    "name": "ipython",
    "version": 3
   },
   "file_extension": ".py",
   "mimetype": "text/x-python",
   "name": "python",
   "nbconvert_exporter": "python",
   "pygments_lexer": "ipython3",
   "version": "3.10.9"
  },
  "vscode": {
   "interpreter": {
    "hash": "4e42ad074a612a92c728142607adbe16bb063d075b6a3eb41219fc2bed4f6659"
   }
  }
 },
 "nbformat": 4,
 "nbformat_minor": 4
}
