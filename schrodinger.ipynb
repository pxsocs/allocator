{
 "cells": [
  {
   "attachments": {},
   "cell_type": "markdown",
   "metadata": {},
   "source": [
    "## Shrodinger Coin\n"
   ]
  },
  {
   "cell_type": "code",
   "execution_count": 1,
   "metadata": {},
   "outputs": [],
   "source": [
    "import pandas as pd\n",
    "import numpy as np\n",
    "import matplotlib.pyplot as plt\n"
   ]
  },
  {
   "cell_type": "code",
   "execution_count": 2,
   "metadata": {},
   "outputs": [
    {
     "data": {
      "text/html": [
       "<div>\n",
       "<style scoped>\n",
       "    .dataframe tbody tr th:only-of-type {\n",
       "        vertical-align: middle;\n",
       "    }\n",
       "\n",
       "    .dataframe tbody tr th {\n",
       "        vertical-align: top;\n",
       "    }\n",
       "\n",
       "    .dataframe thead th {\n",
       "        text-align: right;\n",
       "    }\n",
       "</style>\n",
       "<table border=\"1\" class=\"dataframe\">\n",
       "  <thead>\n",
       "    <tr style=\"text-align: right;\">\n",
       "      <th></th>\n",
       "      <th>Asset</th>\n",
       "      <th>Market Cap (Trillion USD)</th>\n",
       "      <th>Monetary Premium Percentage</th>\n",
       "      <th>Probability of Capture</th>\n",
       "      <th>Time to Capture (Years)</th>\n",
       "    </tr>\n",
       "  </thead>\n",
       "  <tbody>\n",
       "    <tr>\n",
       "      <th>0</th>\n",
       "      <td>Stocks</td>\n",
       "      <td>95.0</td>\n",
       "      <td>0.2</td>\n",
       "      <td>0.1</td>\n",
       "      <td>10</td>\n",
       "    </tr>\n",
       "    <tr>\n",
       "      <th>1</th>\n",
       "      <td>Bonds</td>\n",
       "      <td>105.0</td>\n",
       "      <td>0.2</td>\n",
       "      <td>0.1</td>\n",
       "      <td>10</td>\n",
       "    </tr>\n",
       "    <tr>\n",
       "      <th>2</th>\n",
       "      <td>Gold</td>\n",
       "      <td>11.0</td>\n",
       "      <td>0.8</td>\n",
       "      <td>0.5</td>\n",
       "      <td>10</td>\n",
       "    </tr>\n",
       "    <tr>\n",
       "      <th>3</th>\n",
       "      <td>Silver</td>\n",
       "      <td>1.4</td>\n",
       "      <td>0.5</td>\n",
       "      <td>0.5</td>\n",
       "      <td>10</td>\n",
       "    </tr>\n",
       "  </tbody>\n",
       "</table>\n",
       "</div>"
      ],
      "text/plain": [
       "    Asset  Market Cap (Trillion USD)  Monetary Premium Percentage  \\\n",
       "0  Stocks                       95.0                          0.2   \n",
       "1   Bonds                      105.0                          0.2   \n",
       "2    Gold                       11.0                          0.8   \n",
       "3  Silver                        1.4                          0.5   \n",
       "\n",
       "   Probability of Capture  Time to Capture (Years)  \n",
       "0                     0.1                       10  \n",
       "1                     0.1                       10  \n",
       "2                     0.5                       10  \n",
       "3                     0.5                       10  "
      ]
     },
     "execution_count": 2,
     "metadata": {},
     "output_type": "execute_result"
    }
   ],
   "source": [
    "data = {\n",
    "    'Asset': ['Stocks', 'Bonds', 'Gold', 'Silver'],\n",
    "    'Market Cap (Trillion USD)': [95, 105, 11, 1.4],\n",
    "    'Monetary Premium Percentage': [0.2, 0.2, 0.8, 0.5],\n",
    "    'Probability of Capture': [0.1, 0.1, 0.5, 0.5],\n",
    "    'Time to Capture (Years)': [10, 10, 10, 10],\n",
    "}\n",
    "\n",
    "discount_rate = 0.05\n",
    "\n",
    "df = pd.DataFrame(data)\n",
    "df\n",
    "\n"
   ]
  },
  {
   "cell_type": "code",
   "execution_count": 3,
   "metadata": {},
   "outputs": [],
   "source": [
    "def calculate_expected_capture_value(asset_market_cap, monetization_percentage, probability_of_capture, time_to_capture, discount_rate):\n",
    "    return (asset_market_cap * monetization_percentage * probability_of_capture) / ((1 + discount_rate) ** time_to_capture)\n"
   ]
  },
  {
   "cell_type": "code",
   "execution_count": 4,
   "metadata": {},
   "outputs": [
    {
     "data": {
      "text/html": [
       "<div>\n",
       "<style scoped>\n",
       "    .dataframe tbody tr th:only-of-type {\n",
       "        vertical-align: middle;\n",
       "    }\n",
       "\n",
       "    .dataframe tbody tr th {\n",
       "        vertical-align: top;\n",
       "    }\n",
       "\n",
       "    .dataframe thead th {\n",
       "        text-align: right;\n",
       "    }\n",
       "</style>\n",
       "<table border=\"1\" class=\"dataframe\">\n",
       "  <thead>\n",
       "    <tr style=\"text-align: right;\">\n",
       "      <th></th>\n",
       "      <th>Asset</th>\n",
       "      <th>Market Cap (Trillion USD)</th>\n",
       "      <th>Monetary Premium Percentage</th>\n",
       "      <th>Probability of Capture</th>\n",
       "      <th>Time to Capture (Years)</th>\n",
       "      <th>Expected Capture Value (Trillion USD)</th>\n",
       "    </tr>\n",
       "  </thead>\n",
       "  <tbody>\n",
       "    <tr>\n",
       "      <th>0</th>\n",
       "      <td>Stocks</td>\n",
       "      <td>95.0</td>\n",
       "      <td>0.2</td>\n",
       "      <td>0.1</td>\n",
       "      <td>10</td>\n",
       "      <td>1.166435</td>\n",
       "    </tr>\n",
       "    <tr>\n",
       "      <th>1</th>\n",
       "      <td>Bonds</td>\n",
       "      <td>105.0</td>\n",
       "      <td>0.2</td>\n",
       "      <td>0.1</td>\n",
       "      <td>10</td>\n",
       "      <td>1.289218</td>\n",
       "    </tr>\n",
       "    <tr>\n",
       "      <th>2</th>\n",
       "      <td>Gold</td>\n",
       "      <td>11.0</td>\n",
       "      <td>0.8</td>\n",
       "      <td>0.5</td>\n",
       "      <td>10</td>\n",
       "      <td>2.701218</td>\n",
       "    </tr>\n",
       "    <tr>\n",
       "      <th>3</th>\n",
       "      <td>Silver</td>\n",
       "      <td>1.4</td>\n",
       "      <td>0.5</td>\n",
       "      <td>0.5</td>\n",
       "      <td>10</td>\n",
       "      <td>0.214870</td>\n",
       "    </tr>\n",
       "  </tbody>\n",
       "</table>\n",
       "</div>"
      ],
      "text/plain": [
       "    Asset  Market Cap (Trillion USD)  Monetary Premium Percentage  \\\n",
       "0  Stocks                       95.0                          0.2   \n",
       "1   Bonds                      105.0                          0.2   \n",
       "2    Gold                       11.0                          0.8   \n",
       "3  Silver                        1.4                          0.5   \n",
       "\n",
       "   Probability of Capture  Time to Capture (Years)  \\\n",
       "0                     0.1                       10   \n",
       "1                     0.1                       10   \n",
       "2                     0.5                       10   \n",
       "3                     0.5                       10   \n",
       "\n",
       "   Expected Capture Value (Trillion USD)  \n",
       "0                               1.166435  \n",
       "1                               1.289218  \n",
       "2                               2.701218  \n",
       "3                               0.214870  "
      ]
     },
     "execution_count": 4,
     "metadata": {},
     "output_type": "execute_result"
    }
   ],
   "source": [
    "df['Expected Capture Value (Trillion USD)'] = df.apply(lambda row: calculate_expected_capture_value(row['Market Cap (Trillion USD)'], row['Monetary Premium Percentage'], row['Probability of Capture'], row['Time to Capture (Years)'], discount_rate), axis=1)\n",
    "df\n"
   ]
  },
  {
   "cell_type": "code",
   "execution_count": 5,
   "metadata": {},
   "outputs": [
    {
     "data": {
      "text/plain": [
       "255797.18897531633"
      ]
     },
     "execution_count": 5,
     "metadata": {},
     "output_type": "execute_result"
    }
   ],
   "source": [
    "bitcoin_fair_value_today = df['Expected Capture Value (Trillion USD)'].sum() * 1e12 / 21e6\n",
    "bitcoin_fair_value_today\n"
   ]
  },
  {
   "cell_type": "code",
   "execution_count": 6,
   "metadata": {},
   "outputs": [],
   "source": [
    "def project_fair_value_over_time(df, discount_rate, time_horizon):\n",
    "    years = np.arange(0, time_horizon + 1)\n",
    "    projected_values = []\n",
    "\n",
    "    for year in years:\n",
    "        df['Temp Capture Value'] = df.apply(lambda row: calculate_expected_capture_value(row['Market Cap (Trillion USD)'], row['Monetary Premium Percentage'], row['Probability of Capture'], row['Time to Capture (Years)'] - year, discount_rate), axis=1)\n",
    "        projected_value = df['Temp Capture Value'].sum() * 1e12 / 21e6\n",
    "        projected_values.append(projected_value)\n",
    "\n",
    "    return years, projected_values\n"
   ]
  },
  {
   "cell_type": "code",
   "execution_count": 7,
   "metadata": {},
   "outputs": [
    {
     "data": {
      "image/png": "[encoded data removed]",
      "text/plain": [
       "<Figure size 640x480 with 1 Axes>"
      ]
     },
     "metadata": {},
     "output_type": "display_data"
    }
   ],
   "source": [
    "time_horizon = 15\n",
    "years, projected_values = project_fair_value_over_time(df, discount_rate, time_horizon)\n",
    "\n",
    "plt.plot(years, projected_values)\n",
    "plt.xlabel('Years')\n",
    "plt.ylabel('Bitcoin Fair Value (USD)')\n",
    "plt.title('Projected Bitcoin Fair Value Over Time')\n",
    "plt.grid()\n",
    "plt.show()\n"
   ]
  },
  {
   "cell_type": "code",
   "execution_count": null,
   "metadata": {},
   "outputs": [],
   "source": []
  }
 ],
 "metadata": {
  "kernelspec": {
   "display_name": ".myenv",
   "language": "python",
   "name": "python3"
  },
  "language_info": {
   "codemirror_mode": {
    "name": "ipython",
    "version": 3
   },
   "file_extension": ".py",
   "mimetype": "text/x-python",
   "name": "python",
   "nbconvert_exporter": "python",
   "pygments_lexer": "ipython3",
   "version": "3.10.9"
  },
  "vscode": {
   "interpreter": {
    "hash": "4e42ad074a612a92c728142607adbe16bb063d075b6a3eb41219fc2bed4f6659"
   }
  }
 },
 "nbformat": 4,
 "nbformat_minor": 4
}
