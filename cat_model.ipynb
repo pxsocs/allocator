{
 "cells": [
  {
   "attachments": {},
   "cell_type": "markdown",
   "metadata": {},
   "source": [
    "## Bitcoin Valuation\n",
    "Does the cat live?"
   ]
  },
  {
   "cell_type": "code",
   "execution_count": 1,
   "metadata": {},
   "outputs": [],
   "source": [
    "# Import Libraries\n",
    "import pandas as pd\n",
    "import numpy as np\n",
    "import urllib\n",
    "import requests\n",
    "import riskfolio as rp\n",
    "from datetime import datetime, timedelta\n",
    "from copy import deepcopy\n",
    "\n",
    "from highcharts import Highchart\n",
    "from chart_builder import plot_chart, CHART_DEFAULTS\n",
    "from IPython.display import display, HTML, display_html\n",
    "import import_ipynb\n",
    "\n",
    "# Chart libraries + settings\n",
    "%matplotlib inline\n",
    "import matplotlib.pyplot as plt\n",
    "# plt.style.use('seaborn-whitegrid')\n",
    "pd.options.mode.chained_assignment = None  # default='warn' - disable some pandas warnings\n",
    "pd.options.display.float_format = '{:,.2f}'.format\n"
   ]
  },
  {
   "attachments": {},
   "cell_type": "markdown",
   "metadata": {},
   "source": [
    "# Market Caps \n",
    "# Hyperbitcoinization scenarios\n",
    "\n",
    "👑 Gold Market Cap:    $12,247,566,911,551\n",
    "\n",
    "🪙 Silver Market Cap:   $1,345,867,443,999\n",
    "\n",
    "💰 M2 Money:           $21,664,400,000,000\n",
    "\n",
    "🏘️ US Real Estate:     $43,400,000,000,000\n",
    "\n",
    "🌳 Global Wealth:     $418,300,000,000,000\n",
    "\n",
    "\n",
    "Source: https://www.pricedinbitcoin21.com/parity"
   ]
  },
  {
   "cell_type": "code",
   "execution_count": 2,
   "metadata": {},
   "outputs": [],
   "source": [
    "asset_values = {\n",
    "    'gold': {\n",
    "        'mkt_cap': 12247566911551\n",
    "    },\n",
    "    'silver': {\n",
    "        'mkt_cap': 1345867443999\n",
    "    },\n",
    "    'M2 Money Supply': {\n",
    "        'mkt_cap': 21664400000000\n",
    "    },\n",
    "    'US Real Estate': {\n",
    "        'mkt_cap': 43400000000000\n",
    "    },\n",
    "    'Global Wealth': {\n",
    "        'mkt_cap': 418300000000000\n",
    "    },\n",
    "}\n"
   ]
  },
  {
   "cell_type": "code",
   "execution_count": 3,
   "metadata": {},
   "outputs": [],
   "source": [
    "# Max supply\n",
    "bitcoin_cap = 20999999.9769\n",
    "# assume a certain number of coins is lost\n",
    "# \"Lost coins only make everyone else's coins worth slightly more. Think of it as a donation to everyone\" -- Satoshi\n",
    "lost_coins = 0.03\n",
    "\n",
    "def cat_model(years, discount_rate, p, mkt_cap):\n",
    "    prob_adjusted_mkt_cap = mkt_cap * p\n",
    "    pv_p_a_mkt_cap = (prob_adjusted_mkt_cap) / ((1 + discount_rate) ** years)\n",
    "    return pv_p_a_mkt_cap / (bitcoin_cap * (1 - lost_coins))"
   ]
  },
  {
   "cell_type": "code",
   "execution_count": 4,
   "metadata": {},
   "outputs": [
    {
     "name": "stdout",
     "output_type": "stream",
     "text": [
      "Bitcoin's Fair Value = 36,912\n"
     ]
    }
   ],
   "source": [
    "# Scenario 1:\n",
    "# 10% probability that BTC captures Gold Market Cap in 10 years\n",
    "\n",
    "years = 10                          # years until event\n",
    "discount_rate = 0.05                # per annum\n",
    "p = 0.10                            # probability of event happening\n",
    "asset = 'gold'             # asset to capture\n",
    "\n",
    "mkt_cap = asset_values[asset]['mkt_cap']\n",
    "fair_value = cat_model(years, discount_rate, p, mkt_cap)\n",
    "print(\"Bitcoin's Fair Value = \" + \"{0:,.0f}\".format(fair_value))"
   ]
  },
  {
   "cell_type": "code",
   "execution_count": 5,
   "metadata": {},
   "outputs": [
    {
     "name": "stdout",
     "output_type": "stream",
     "text": [
      "Bitcoin's Fair Value = 77,395\n"
     ]
    }
   ],
   "source": [
    "# Scenario 2:\n",
    "# 1% probability that BTC captures Global Wealth in 20 years\n",
    "# \"I'm sure that in 20 years there will either be very large transaction volume or no volume.\" -- Satoshi\n",
    "years = 20                          # years until event\n",
    "discount_rate = 0.05                # per annum\n",
    "p = 0.01                            # probability of event happening\n",
    "asset = 'Global Wealth'             # asset to capture\n",
    "\n",
    "mkt_cap = asset_values[asset]['mkt_cap']\n",
    "fair_value = cat_model(years, discount_rate, p, mkt_cap)\n",
    "print(\"Bitcoin's Fair Value = \" + \"{0:,.0f}\".format(fair_value))"
   ]
  },
  {
   "cell_type": "code",
   "execution_count": 6,
   "metadata": {},
   "outputs": [
    {
     "name": "stdout",
     "output_type": "stream",
     "text": [
      "gold\n"
     ]
    },
    {
     "data": {
      "text/html": [
       "<iframe style=\"border:0;outline:none;overflow:hidden\" srcdoc=\"&lt;!DOCTYPE html&gt; &lt;html lang=&quot;en&quot;&gt; &lt;head&gt; &lt;meta charset=&quot;utf-8&quot; /&gt; &lt;link href=&quot;https://www.highcharts.com/highslide/highslide.css&quot; rel=&quot;stylesheet&quot; /&gt; &lt;script type=&quot;text/javascript&quot; src=&quot;https://ajax.googleapis.com/ajax/libs/jquery/1.9.1/jquery.min.js&quot;&gt;&lt;/script&gt; &lt;script type=&quot;text/javascript&quot; src=&quot;https://code.highcharts.com/6/highcharts.js&quot;&gt;&lt;/script&gt; &lt;script type=&quot;text/javascript&quot; src=&quot;https://code.highcharts.com/6/highcharts-more.js&quot;&gt;&lt;/script&gt; &lt;script type=&quot;text/javascript&quot; src=&quot;https://code.highcharts.com/6/modules/heatmap.js&quot;&gt;&lt;/script&gt; &lt;script type=&quot;text/javascript&quot; src=&quot;https://code.highcharts.com/6/modules/exporting.js&quot;&gt;&lt;/script&gt; &lt;/head&gt; &lt;body style=&quot;margin:0;padding:0&quot;&gt; &lt;div id=&quot;container&quot; style=&quot;&quot;&gt;Loading....&lt;/div&gt; &lt;script&gt; $(function(){ Highcharts.setOptions({&quot;global&quot;: {}, &quot;lang&quot;: {}}); var option = {&quot;chart&quot;: {&quot;renderTo&quot;: &quot;container&quot;, &quot;backgroundColor&quot;: &quot;#FFFFFF&quot;, &quot;style&quot;: {&quot;fontFamily&quot;: &quot;Dosis, sans-serif&quot;}}, &quot;colors&quot;: [&quot;#2C6A3E&quot;, &quot;#09654E&quot;, &quot;#005F5A&quot;, &quot;#00585F&quot;, &quot;#1D505F&quot;, &quot;#2F4858&quot;], &quot;credits&quot;: {&quot;enabled&quot;: false}, &quot;drilldown&quot;: {}, &quot;exporting&quot;: {}, &quot;labels&quot;: {}, &quot;legend&quot;: {&quot;itemStyle&quot;: {&quot;fontWeight&quot;: &quot;bold&quot;, &quot;fontSize&quot;: &quot;10px&quot;}}, &quot;loading&quot;: {}, &quot;navigation&quot;: {}, &quot;pane&quot;: {}, &quot;plotOptions&quot;: {}, &quot;series&quot;: {}, &quot;subtitle&quot;: {&quot;text&quot;: &quot;&quot;}, &quot;title&quot;: {&quot;text&quot;: &quot;Today&#x27;s Fair Value of BTC assuming it captures gold in 20 years&quot;, &quot;style&quot;: {&quot;fontSize&quot;: &quot;12px&quot;, &quot;fontWeight&quot;: &quot;bold&quot;, &quot;textTransform&quot;: &quot;uppercase&quot;}}, &quot;tooltip&quot;: {&quot;borderWidth&quot;: 0, &quot;backgroundColor&quot;: &quot;rgba(219,219,216,0.8)&quot;, &quot;shadow&quot;: false, &quot;valueDecimals&quot;: 2}, &quot;xAxis&quot;: {&quot;gridLineWidth&quot;: 1, &quot;minPadding&quot;: 0, &quot;maxPadding&quot;: 0, &quot;startOnTick&quot;: true, &quot;endOnTick&quot;: true, &quot;labels&quot;: {&quot;style&quot;: {&quot;fontSize&quot;: &quot;10px&quot;}}, &quot;title&quot;: {&quot;text&quot;: &quot;Probabilities&quot;}}, &quot;yAxis&quot;: {&quot;minorTickInterval&quot;: &quot;auto&quot;, &quot;title&quot;: {&quot;style&quot;: {&quot;textTransform&quot;: &quot;uppercase&quot;}, &quot;text&quot;: &quot;Fair Value&quot;}, &quot;labels&quot;: {&quot;style&quot;: {&quot;fontSize&quot;: &quot;10px&quot;}}}}; var chart = new Highcharts.Chart(option); var data = [{&quot;data&quot;: [[0.01, 2266.0673366836054], [0.05, 11330.336683418027], [0.1, 22660.673366836054], [0.2, 45321.34673367211], [0.5, 113303.36683418025], [0.75, 169955.05025127038], [1, 226606.7336683605]], &quot;type&quot;: &quot;spline&quot;, &quot;name&quot;: &quot;Fair Value&quot;}, {&quot;data&quot;: [[0.01, 2266.0673366836054], [0.05, 11330.336683418027], [0.1, 22660.673366836054], [0.2, 45321.34673367211], [0.5, 113303.36683418025], [0.75, 169955.05025127038], [1, 226606.7336683605]], &quot;type&quot;: &quot;spline&quot;, &quot;dataLabels&quot;: {&quot;enabled&quot;: true, &quot;format&quot;: &quot;{point.properties.postal-code}&quot;}, &quot;name&quot;: &quot;Fair Value&quot;}]; var dataLen = data.length; for (var ix = 0; ix &lt; dataLen; ix++) { chart.addSeries(data[ix]); } }); &lt;/script&gt; &lt;/body&gt; &lt;/html&gt;\" height=520 width=820></iframe>"
      ],
      "text/plain": [
       "<highcharts.highcharts.highcharts.Highchart at 0x10f13da80>"
      ]
     },
     "metadata": {},
     "output_type": "display_data"
    },
    {
     "name": "stdout",
     "output_type": "stream",
     "text": [
      "silver\n"
     ]
    },
    {
     "data": {
      "text/html": [
       "<iframe style=\"border:0;outline:none;overflow:hidden\" srcdoc=\"&lt;!DOCTYPE html&gt; &lt;html lang=&quot;en&quot;&gt; &lt;head&gt; &lt;meta charset=&quot;utf-8&quot; /&gt; &lt;link href=&quot;https://www.highcharts.com/highslide/highslide.css&quot; rel=&quot;stylesheet&quot; /&gt; &lt;script type=&quot;text/javascript&quot; src=&quot;https://ajax.googleapis.com/ajax/libs/jquery/1.9.1/jquery.min.js&quot;&gt;&lt;/script&gt; &lt;script type=&quot;text/javascript&quot; src=&quot;https://code.highcharts.com/6/highcharts.js&quot;&gt;&lt;/script&gt; &lt;script type=&quot;text/javascript&quot; src=&quot;https://code.highcharts.com/6/highcharts-more.js&quot;&gt;&lt;/script&gt; &lt;script type=&quot;text/javascript&quot; src=&quot;https://code.highcharts.com/6/modules/heatmap.js&quot;&gt;&lt;/script&gt; &lt;script type=&quot;text/javascript&quot; src=&quot;https://code.highcharts.com/6/modules/exporting.js&quot;&gt;&lt;/script&gt; &lt;/head&gt; &lt;body style=&quot;margin:0;padding:0&quot;&gt; &lt;div id=&quot;container&quot; style=&quot;&quot;&gt;Loading....&lt;/div&gt; &lt;script&gt; $(function(){ Highcharts.setOptions({&quot;global&quot;: {}, &quot;lang&quot;: {}}); var option = {&quot;chart&quot;: {&quot;renderTo&quot;: &quot;container&quot;, &quot;backgroundColor&quot;: &quot;#FFFFFF&quot;, &quot;style&quot;: {&quot;fontFamily&quot;: &quot;Dosis, sans-serif&quot;}}, &quot;colors&quot;: [&quot;#2C6A3E&quot;, &quot;#09654E&quot;, &quot;#005F5A&quot;, &quot;#00585F&quot;, &quot;#1D505F&quot;, &quot;#2F4858&quot;], &quot;credits&quot;: {&quot;enabled&quot;: false}, &quot;drilldown&quot;: {}, &quot;exporting&quot;: {}, &quot;labels&quot;: {}, &quot;legend&quot;: {&quot;itemStyle&quot;: {&quot;fontWeight&quot;: &quot;bold&quot;, &quot;fontSize&quot;: &quot;10px&quot;}}, &quot;loading&quot;: {}, &quot;navigation&quot;: {}, &quot;pane&quot;: {}, &quot;plotOptions&quot;: {}, &quot;series&quot;: {}, &quot;subtitle&quot;: {&quot;text&quot;: &quot;&quot;}, &quot;title&quot;: {&quot;text&quot;: &quot;Today&#x27;s Fair Value of BTC assuming it captures silver in 20 years&quot;, &quot;style&quot;: {&quot;fontSize&quot;: &quot;12px&quot;, &quot;fontWeight&quot;: &quot;bold&quot;, &quot;textTransform&quot;: &quot;uppercase&quot;}}, &quot;tooltip&quot;: {&quot;borderWidth&quot;: 0, &quot;backgroundColor&quot;: &quot;rgba(219,219,216,0.8)&quot;, &quot;shadow&quot;: false, &quot;valueDecimals&quot;: 2}, &quot;xAxis&quot;: {&quot;gridLineWidth&quot;: 1, &quot;minPadding&quot;: 0, &quot;maxPadding&quot;: 0, &quot;startOnTick&quot;: true, &quot;endOnTick&quot;: true, &quot;labels&quot;: {&quot;style&quot;: {&quot;fontSize&quot;: &quot;10px&quot;}}, &quot;title&quot;: {&quot;text&quot;: &quot;Probabilities&quot;}}, &quot;yAxis&quot;: {&quot;minorTickInterval&quot;: &quot;auto&quot;, &quot;title&quot;: {&quot;style&quot;: {&quot;textTransform&quot;: &quot;uppercase&quot;}, &quot;text&quot;: &quot;Fair Value&quot;}, &quot;labels&quot;: {&quot;style&quot;: {&quot;fontSize&quot;: &quot;10px&quot;}}}}; var chart = new Highcharts.Chart(option); var data = [{&quot;data&quot;: [[0.01, 249.0148677183886], [0.05, 1245.074338591943], [0.1, 2490.148677183886], [0.2, 4980.297354367772], [0.5, 12450.74338591943], [0.75, 18676.115078879146], [1, 24901.48677183886]], &quot;type&quot;: &quot;spline&quot;, &quot;name&quot;: &quot;Fair Value&quot;}, {&quot;data&quot;: [[0.01, 249.0148677183886], [0.05, 1245.074338591943], [0.1, 2490.148677183886], [0.2, 4980.297354367772], [0.5, 12450.74338591943], [0.75, 18676.115078879146], [1, 24901.48677183886]], &quot;type&quot;: &quot;spline&quot;, &quot;dataLabels&quot;: {&quot;enabled&quot;: true, &quot;format&quot;: &quot;{point.properties.postal-code}&quot;}, &quot;name&quot;: &quot;Fair Value&quot;}]; var dataLen = data.length; for (var ix = 0; ix &lt; dataLen; ix++) { chart.addSeries(data[ix]); } }); &lt;/script&gt; &lt;/body&gt; &lt;/html&gt;\" height=520 width=820></iframe>"
      ],
      "text/plain": [
       "<highcharts.highcharts.highcharts.Highchart at 0x198c1b130>"
      ]
     },
     "metadata": {},
     "output_type": "display_data"
    },
    {
     "name": "stdout",
     "output_type": "stream",
     "text": [
      "M2 Money Supply\n"
     ]
    },
    {
     "data": {
      "text/html": [
       "<iframe style=\"border:0;outline:none;overflow:hidden\" srcdoc=\"&lt;!DOCTYPE html&gt; &lt;html lang=&quot;en&quot;&gt; &lt;head&gt; &lt;meta charset=&quot;utf-8&quot; /&gt; &lt;link href=&quot;https://www.highcharts.com/highslide/highslide.css&quot; rel=&quot;stylesheet&quot; /&gt; &lt;script type=&quot;text/javascript&quot; src=&quot;https://ajax.googleapis.com/ajax/libs/jquery/1.9.1/jquery.min.js&quot;&gt;&lt;/script&gt; &lt;script type=&quot;text/javascript&quot; src=&quot;https://code.highcharts.com/6/highcharts.js&quot;&gt;&lt;/script&gt; &lt;script type=&quot;text/javascript&quot; src=&quot;https://code.highcharts.com/6/highcharts-more.js&quot;&gt;&lt;/script&gt; &lt;script type=&quot;text/javascript&quot; src=&quot;https://code.highcharts.com/6/modules/heatmap.js&quot;&gt;&lt;/script&gt; &lt;script type=&quot;text/javascript&quot; src=&quot;https://code.highcharts.com/6/modules/exporting.js&quot;&gt;&lt;/script&gt; &lt;/head&gt; &lt;body style=&quot;margin:0;padding:0&quot;&gt; &lt;div id=&quot;container&quot; style=&quot;&quot;&gt;Loading....&lt;/div&gt; &lt;script&gt; $(function(){ Highcharts.setOptions({&quot;global&quot;: {}, &quot;lang&quot;: {}}); var option = {&quot;chart&quot;: {&quot;renderTo&quot;: &quot;container&quot;, &quot;backgroundColor&quot;: &quot;#FFFFFF&quot;, &quot;style&quot;: {&quot;fontFamily&quot;: &quot;Dosis, sans-serif&quot;}}, &quot;colors&quot;: [&quot;#2C6A3E&quot;, &quot;#09654E&quot;, &quot;#005F5A&quot;, &quot;#00585F&quot;, &quot;#1D505F&quot;, &quot;#2F4858&quot;], &quot;credits&quot;: {&quot;enabled&quot;: false}, &quot;drilldown&quot;: {}, &quot;exporting&quot;: {}, &quot;labels&quot;: {}, &quot;legend&quot;: {&quot;itemStyle&quot;: {&quot;fontWeight&quot;: &quot;bold&quot;, &quot;fontSize&quot;: &quot;10px&quot;}}, &quot;loading&quot;: {}, &quot;navigation&quot;: {}, &quot;pane&quot;: {}, &quot;plotOptions&quot;: {}, &quot;series&quot;: {}, &quot;subtitle&quot;: {&quot;text&quot;: &quot;&quot;}, &quot;title&quot;: {&quot;text&quot;: &quot;Today&#x27;s Fair Value of BTC assuming it captures M2 Money Supply in 20 years&quot;, &quot;style&quot;: {&quot;fontSize&quot;: &quot;12px&quot;, &quot;fontWeight&quot;: &quot;bold&quot;, &quot;textTransform&quot;: &quot;uppercase&quot;}}, &quot;tooltip&quot;: {&quot;borderWidth&quot;: 0, &quot;backgroundColor&quot;: &quot;rgba(219,219,216,0.8)&quot;, &quot;shadow&quot;: false, &quot;valueDecimals&quot;: 2}, &quot;xAxis&quot;: {&quot;gridLineWidth&quot;: 1, &quot;minPadding&quot;: 0, &quot;maxPadding&quot;: 0, &quot;startOnTick&quot;: true, &quot;endOnTick&quot;: true, &quot;labels&quot;: {&quot;style&quot;: {&quot;fontSize&quot;: &quot;10px&quot;}}, &quot;title&quot;: {&quot;text&quot;: &quot;Probabilities&quot;}}, &quot;yAxis&quot;: {&quot;minorTickInterval&quot;: &quot;auto&quot;, &quot;title&quot;: {&quot;style&quot;: {&quot;textTransform&quot;: &quot;uppercase&quot;}, &quot;text&quot;: &quot;Fair Value&quot;}, &quot;labels&quot;: {&quot;style&quot;: {&quot;fontSize&quot;: &quot;10px&quot;}}}}; var chart = new Highcharts.Chart(option); var data = [{&quot;data&quot;: [[0.01, 4008.3870995264715], [0.05, 20041.93549763236], [0.1, 40083.87099526472], [0.2, 80167.74199052944], [0.5, 200419.35497632358], [0.75, 300629.0324644853], [1, 400838.70995264716]], &quot;type&quot;: &quot;spline&quot;, &quot;name&quot;: &quot;Fair Value&quot;}, {&quot;data&quot;: [[0.01, 4008.3870995264715], [0.05, 20041.93549763236], [0.1, 40083.87099526472], [0.2, 80167.74199052944], [0.5, 200419.35497632358], [0.75, 300629.0324644853], [1, 400838.70995264716]], &quot;type&quot;: &quot;spline&quot;, &quot;dataLabels&quot;: {&quot;enabled&quot;: true, &quot;format&quot;: &quot;{point.properties.postal-code}&quot;}, &quot;name&quot;: &quot;Fair Value&quot;}]; var dataLen = data.length; for (var ix = 0; ix &lt; dataLen; ix++) { chart.addSeries(data[ix]); } }); &lt;/script&gt; &lt;/body&gt; &lt;/html&gt;\" height=520 width=820></iframe>"
      ],
      "text/plain": [
       "<highcharts.highcharts.highcharts.Highchart at 0x198c1be50>"
      ]
     },
     "metadata": {},
     "output_type": "display_data"
    },
    {
     "name": "stdout",
     "output_type": "stream",
     "text": [
      "US Real Estate\n"
     ]
    },
    {
     "data": {
      "text/html": [
       "<iframe style=\"border:0;outline:none;overflow:hidden\" srcdoc=\"&lt;!DOCTYPE html&gt; &lt;html lang=&quot;en&quot;&gt; &lt;head&gt; &lt;meta charset=&quot;utf-8&quot; /&gt; &lt;link href=&quot;https://www.highcharts.com/highslide/highslide.css&quot; rel=&quot;stylesheet&quot; /&gt; &lt;script type=&quot;text/javascript&quot; src=&quot;https://ajax.googleapis.com/ajax/libs/jquery/1.9.1/jquery.min.js&quot;&gt;&lt;/script&gt; &lt;script type=&quot;text/javascript&quot; src=&quot;https://code.highcharts.com/6/highcharts.js&quot;&gt;&lt;/script&gt; &lt;script type=&quot;text/javascript&quot; src=&quot;https://code.highcharts.com/6/highcharts-more.js&quot;&gt;&lt;/script&gt; &lt;script type=&quot;text/javascript&quot; src=&quot;https://code.highcharts.com/6/modules/heatmap.js&quot;&gt;&lt;/script&gt; &lt;script type=&quot;text/javascript&quot; src=&quot;https://code.highcharts.com/6/modules/exporting.js&quot;&gt;&lt;/script&gt; &lt;/head&gt; &lt;body style=&quot;margin:0;padding:0&quot;&gt; &lt;div id=&quot;container&quot; style=&quot;&quot;&gt;Loading....&lt;/div&gt; &lt;script&gt; $(function(){ Highcharts.setOptions({&quot;global&quot;: {}, &quot;lang&quot;: {}}); var option = {&quot;chart&quot;: {&quot;renderTo&quot;: &quot;container&quot;, &quot;backgroundColor&quot;: &quot;#FFFFFF&quot;, &quot;style&quot;: {&quot;fontFamily&quot;: &quot;Dosis, sans-serif&quot;}}, &quot;colors&quot;: [&quot;#2C6A3E&quot;, &quot;#09654E&quot;, &quot;#005F5A&quot;, &quot;#00585F&quot;, &quot;#1D505F&quot;, &quot;#2F4858&quot;], &quot;credits&quot;: {&quot;enabled&quot;: false}, &quot;drilldown&quot;: {}, &quot;exporting&quot;: {}, &quot;labels&quot;: {}, &quot;legend&quot;: {&quot;itemStyle&quot;: {&quot;fontWeight&quot;: &quot;bold&quot;, &quot;fontSize&quot;: &quot;10px&quot;}}, &quot;loading&quot;: {}, &quot;navigation&quot;: {}, &quot;pane&quot;: {}, &quot;plotOptions&quot;: {}, &quot;series&quot;: {}, &quot;subtitle&quot;: {&quot;text&quot;: &quot;&quot;}, &quot;title&quot;: {&quot;text&quot;: &quot;Today&#x27;s Fair Value of BTC assuming it captures US Real Estate in 20 years&quot;, &quot;style&quot;: {&quot;fontSize&quot;: &quot;12px&quot;, &quot;fontWeight&quot;: &quot;bold&quot;, &quot;textTransform&quot;: &quot;uppercase&quot;}}, &quot;tooltip&quot;: {&quot;borderWidth&quot;: 0, &quot;backgroundColor&quot;: &quot;rgba(219,219,216,0.8)&quot;, &quot;shadow&quot;: false, &quot;valueDecimals&quot;: 2}, &quot;xAxis&quot;: {&quot;gridLineWidth&quot;: 1, &quot;minPadding&quot;: 0, &quot;maxPadding&quot;: 0, &quot;startOnTick&quot;: true, &quot;endOnTick&quot;: true, &quot;labels&quot;: {&quot;style&quot;: {&quot;fontSize&quot;: &quot;10px&quot;}}, &quot;title&quot;: {&quot;text&quot;: &quot;Probabilities&quot;}}, &quot;yAxis&quot;: {&quot;minorTickInterval&quot;: &quot;auto&quot;, &quot;title&quot;: {&quot;style&quot;: {&quot;textTransform&quot;: &quot;uppercase&quot;}, &quot;text&quot;: &quot;Fair Value&quot;}, &quot;labels&quot;: {&quot;style&quot;: {&quot;fontSize&quot;: &quot;10px&quot;}}}}; var chart = new Highcharts.Chart(option); var data = [{&quot;data&quot;: [[0.01, 8029.947753893432], [0.05, 40149.73876946716], [0.1, 80299.47753893433], [0.2, 160598.95507786865], [0.5, 401497.3876946716], [0.75, 602246.0815420074], [1, 802994.7753893432]], &quot;type&quot;: &quot;spline&quot;, &quot;name&quot;: &quot;Fair Value&quot;}, {&quot;data&quot;: [[0.01, 8029.947753893432], [0.05, 40149.73876946716], [0.1, 80299.47753893433], [0.2, 160598.95507786865], [0.5, 401497.3876946716], [0.75, 602246.0815420074], [1, 802994.7753893432]], &quot;type&quot;: &quot;spline&quot;, &quot;dataLabels&quot;: {&quot;enabled&quot;: true, &quot;format&quot;: &quot;{point.properties.postal-code}&quot;}, &quot;name&quot;: &quot;Fair Value&quot;}]; var dataLen = data.length; for (var ix = 0; ix &lt; dataLen; ix++) { chart.addSeries(data[ix]); } }); &lt;/script&gt; &lt;/body&gt; &lt;/html&gt;\" height=520 width=820></iframe>"
      ],
      "text/plain": [
       "<highcharts.highcharts.highcharts.Highchart at 0x10f0dfb50>"
      ]
     },
     "metadata": {},
     "output_type": "display_data"
    },
    {
     "name": "stdout",
     "output_type": "stream",
     "text": [
      "Global Wealth\n"
     ]
    },
    {
     "data": {
      "text/html": [
       "<iframe style=\"border:0;outline:none;overflow:hidden\" srcdoc=\"&lt;!DOCTYPE html&gt; &lt;html lang=&quot;en&quot;&gt; &lt;head&gt; &lt;meta charset=&quot;utf-8&quot; /&gt; &lt;link href=&quot;https://www.highcharts.com/highslide/highslide.css&quot; rel=&quot;stylesheet&quot; /&gt; &lt;script type=&quot;text/javascript&quot; src=&quot;https://ajax.googleapis.com/ajax/libs/jquery/1.9.1/jquery.min.js&quot;&gt;&lt;/script&gt; &lt;script type=&quot;text/javascript&quot; src=&quot;https://code.highcharts.com/6/highcharts.js&quot;&gt;&lt;/script&gt; &lt;script type=&quot;text/javascript&quot; src=&quot;https://code.highcharts.com/6/highcharts-more.js&quot;&gt;&lt;/script&gt; &lt;script type=&quot;text/javascript&quot; src=&quot;https://code.highcharts.com/6/modules/heatmap.js&quot;&gt;&lt;/script&gt; &lt;script type=&quot;text/javascript&quot; src=&quot;https://code.highcharts.com/6/modules/exporting.js&quot;&gt;&lt;/script&gt; &lt;/head&gt; &lt;body style=&quot;margin:0;padding:0&quot;&gt; &lt;div id=&quot;container&quot; style=&quot;&quot;&gt;Loading....&lt;/div&gt; &lt;script&gt; $(function(){ Highcharts.setOptions({&quot;global&quot;: {}, &quot;lang&quot;: {}}); var option = {&quot;chart&quot;: {&quot;renderTo&quot;: &quot;container&quot;, &quot;backgroundColor&quot;: &quot;#FFFFFF&quot;, &quot;style&quot;: {&quot;fontFamily&quot;: &quot;Dosis, sans-serif&quot;}}, &quot;colors&quot;: [&quot;#2C6A3E&quot;, &quot;#09654E&quot;, &quot;#005F5A&quot;, &quot;#00585F&quot;, &quot;#1D505F&quot;, &quot;#2F4858&quot;], &quot;credits&quot;: {&quot;enabled&quot;: false}, &quot;drilldown&quot;: {}, &quot;exporting&quot;: {}, &quot;labels&quot;: {}, &quot;legend&quot;: {&quot;itemStyle&quot;: {&quot;fontWeight&quot;: &quot;bold&quot;, &quot;fontSize&quot;: &quot;10px&quot;}}, &quot;loading&quot;: {}, &quot;navigation&quot;: {}, &quot;pane&quot;: {}, &quot;plotOptions&quot;: {}, &quot;series&quot;: {}, &quot;subtitle&quot;: {&quot;text&quot;: &quot;&quot;}, &quot;title&quot;: {&quot;text&quot;: &quot;Today&#x27;s Fair Value of BTC assuming it captures Global Wealth in 20 years&quot;, &quot;style&quot;: {&quot;fontSize&quot;: &quot;12px&quot;, &quot;fontWeight&quot;: &quot;bold&quot;, &quot;textTransform&quot;: &quot;uppercase&quot;}}, &quot;tooltip&quot;: {&quot;borderWidth&quot;: 0, &quot;backgroundColor&quot;: &quot;rgba(219,219,216,0.8)&quot;, &quot;shadow&quot;: false, &quot;valueDecimals&quot;: 2}, &quot;xAxis&quot;: {&quot;gridLineWidth&quot;: 1, &quot;minPadding&quot;: 0, &quot;maxPadding&quot;: 0, &quot;startOnTick&quot;: true, &quot;endOnTick&quot;: true, &quot;labels&quot;: {&quot;style&quot;: {&quot;fontSize&quot;: &quot;10px&quot;}}, &quot;title&quot;: {&quot;text&quot;: &quot;Probabilities&quot;}}, &quot;yAxis&quot;: {&quot;minorTickInterval&quot;: &quot;auto&quot;, &quot;title&quot;: {&quot;style&quot;: {&quot;textTransform&quot;: &quot;uppercase&quot;}, &quot;text&quot;: &quot;Fair Value&quot;}, &quot;labels&quot;: {&quot;style&quot;: {&quot;fontSize&quot;: &quot;10px&quot;}}}}; var chart = new Highcharts.Chart(option); var data = [{&quot;data&quot;: [[0.01, 77394.63468787148], [0.05, 386973.17343935743], [0.1, 773946.3468787149], [0.2, 1547892.6937574297], [0.5, 3869731.7343935743], [0.75, 5804597.601590361], [1, 7739463.468787149]], &quot;type&quot;: &quot;spline&quot;, &quot;name&quot;: &quot;Fair Value&quot;}, {&quot;data&quot;: [[0.01, 77394.63468787148], [0.05, 386973.17343935743], [0.1, 773946.3468787149], [0.2, 1547892.6937574297], [0.5, 3869731.7343935743], [0.75, 5804597.601590361], [1, 7739463.468787149]], &quot;type&quot;: &quot;spline&quot;, &quot;dataLabels&quot;: {&quot;enabled&quot;: true, &quot;format&quot;: &quot;{point.properties.postal-code}&quot;}, &quot;name&quot;: &quot;Fair Value&quot;}]; var dataLen = data.length; for (var ix = 0; ix &lt; dataLen; ix++) { chart.addSeries(data[ix]); } }); &lt;/script&gt; &lt;/body&gt; &lt;/html&gt;\" height=520 width=820></iframe>"
      ],
      "text/plain": [
       "<highcharts.highcharts.highcharts.Highchart at 0x10f0dcf10>"
      ]
     },
     "metadata": {},
     "output_type": "display_data"
    }
   ],
   "source": [
    "p_list = [0.01, 0.05, 0.10, 0.20, 0.5, 0.75, 1]\n",
    "years_list = [5, 10, 20, 50]\n",
    "\n",
    "for key, value in asset_values.items():   \n",
    "    # Probability chart\n",
    "    x = p_list\n",
    "    year = 20\n",
    "    print(key)\n",
    "    y = [cat_model(year, discount_rate, p, value['mkt_cap']) for p in p_list]\n",
    "    chart = plot_chart(x, y, 'Probabilities', 'Fair Value', 'spline', 'Fair Value', f\"Today's Fair Value of BTC assuming it captures {key} in 20 years\", dt=False, dl=True)\n",
    "    \n",
    "    display(chart)\n"
   ]
  },
  {
   "cell_type": "code",
   "execution_count": null,
   "metadata": {},
   "outputs": [],
   "source": []
  }
 ],
 "metadata": {
  "kernelspec": {
   "display_name": ".myenv",
   "language": "python",
   "name": "python3"
  },
  "language_info": {
   "codemirror_mode": {
    "name": "ipython",
    "version": 3
   },
   "file_extension": ".py",
   "mimetype": "text/x-python",
   "name": "python",
   "nbconvert_exporter": "python",
   "pygments_lexer": "ipython3",
   "version": "3.10.9"
  },
  "vscode": {
   "interpreter": {
    "hash": "4e42ad074a612a92c728142607adbe16bb063d075b6a3eb41219fc2bed4f6659"
   }
  }
 },
 "nbformat": 4,
 "nbformat_minor": 4
}
