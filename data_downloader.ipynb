{
 "cells": [
  {
   "attachments": {},
   "cell_type": "markdown",
   "metadata": {},
   "source": [
    "## Charting Template\n"
   ]
  },
  {
   "cell_type": "code",
   "execution_count": 1,
   "metadata": {},
   "outputs": [],
   "source": [
    "# Import Libraries\n",
    "import pandas as pd\n",
    "import numpy as np\n",
    "import urllib\n",
    "import requests\n",
    "import riskfolio as rp\n",
    "from datetime import datetime, timedelta\n",
    "from copy import deepcopy\n",
    "\n",
    "from highcharts import Highchart\n",
    "from chart_builder import plot_chart, CHART_DEFAULTS\n",
    "from IPython.display import display, HTML, display_html\n",
    "import import_ipynb\n",
    "\n",
    "from pricing_engine.engine import historical_prices, price_ondate\n",
    "from backend.utils import pickle_it, jformat\n",
    "\n"
   ]
  },
  {
   "cell_type": "code",
   "execution_count": 2,
   "metadata": {},
   "outputs": [],
   "source": [
    "data = pickle_it('load', 'altcoins.pkl')\n",
    "# Load the data into a pandas DataFrame\n",
    "altcoin_df = pd.DataFrame(data['Data'])\n",
    "altcoin_df = altcoin_df.T\n",
    "altcoin_df['ContentCreatedOn'] = pd.to_datetime(altcoin_df['ContentCreatedOn'], unit='s')"
   ]
  },
  {
   "cell_type": "code",
   "execution_count": 34,
   "metadata": {},
   "outputs": [],
   "source": [
    "# Download all data\n",
    "ticker_list = altcoin_df['Symbol'].tail(5000).to_list()\n",
    "from pricing_engine.engine import download_data\n",
    "download_data(ticker_list)"
   ]
  },
  {
   "cell_type": "code",
   "execution_count": null,
   "metadata": {},
   "outputs": [],
   "source": []
  }
 ],
 "metadata": {
  "kernelspec": {
   "display_name": ".myenv",
   "language": "python",
   "name": "python3"
  },
  "language_info": {
   "codemirror_mode": {
    "name": "ipython",
    "version": 3
   },
   "file_extension": ".py",
   "mimetype": "text/x-python",
   "name": "python",
   "nbconvert_exporter": "python",
   "pygments_lexer": "ipython3",
   "version": "3.10.9"
  },
  "vscode": {
   "interpreter": {
    "hash": "4e42ad074a612a92c728142607adbe16bb063d075b6a3eb41219fc2bed4f6659"
   }
  }
 },
 "nbformat": 4,
 "nbformat_minor": 4
}
